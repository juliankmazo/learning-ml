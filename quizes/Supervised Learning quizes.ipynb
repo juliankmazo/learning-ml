{
 "cells": [
  {
   "cell_type": "markdown",
   "metadata": {},
   "source": [
    "# Supervised Learning Tasks\n",
    "## More Regressions\n",
    "### Quiz: Sleep and grades regression"
   ]
  },
  {
   "cell_type": "code",
   "execution_count": 5,
   "metadata": {
    "collapsed": false
   },
   "outputs": [
    {
     "name": "stdout",
     "output_type": "stream",
     "text": [
      "(5.5135135135135132, 30.702702702702709)\n"
     ]
    }
   ],
   "source": [
    "import numpy as np\n",
    "\n",
    "sleep = [5, 6, 7, 8, 10]\n",
    "scores = [65, 51, 75, 75, 86]\n",
    "\n",
    "def compute_regression(sleep, scores):\n",
    "    avg_sleep = np.average(sleep)\n",
    "    avg_scores = np.average(scores)\n",
    "    \n",
    "    normalized_sleep = np.subtract(sleep, np.mean(sleep))\n",
    "    normalized_scores = np.subtract(scores, np.mean(scores))\n",
    "    \n",
    "    slope = np.sum(normalized_sleep*normalized_scores)/np.sum(normalized_sleep**2)\n",
    "    \n",
    "    m = slope\n",
    "    b = avg_scores - slope*avg_sleep\n",
    "    return m, b\n",
    "\n",
    "print compute_regression(sleep, scores)"
   ]
  },
  {
   "cell_type": "markdown",
   "metadata": {},
   "source": [
    "### Quiz: Polynomial Regression"
   ]
  },
  {
   "cell_type": "code",
   "execution_count": 7,
   "metadata": {
    "collapsed": false
   },
   "outputs": [
    {
     "name": "stdout",
     "output_type": "stream",
     "text": [
      "[  0.43004418  -0.97201767  53.83210604]\n"
     ]
    }
   ],
   "source": [
    "coeffs = np.polyfit(sleep, scores, 2)\n",
    "print coeffs"
   ]
  },
  {
   "cell_type": "code",
   "execution_count": null,
   "metadata": {
    "collapsed": true
   },
   "outputs": [],
   "source": []
  }
 ],
 "metadata": {
  "anaconda-cloud": {},
  "kernelspec": {
   "display_name": "Python [default]",
   "language": "python",
   "name": "python2"
  },
  "language_info": {
   "codemirror_mode": {
    "name": "ipython",
    "version": 2
   },
   "file_extension": ".py",
   "mimetype": "text/x-python",
   "name": "python",
   "nbconvert_exporter": "python",
   "pygments_lexer": "ipython2",
   "version": "2.7.12"
  }
 },
 "nbformat": 4,
 "nbformat_minor": 1
}
